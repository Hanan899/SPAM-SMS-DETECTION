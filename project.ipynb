{
 "cells": [
  {
   "cell_type": "code",
   "execution_count": 7,
   "metadata": {},
   "outputs": [],
   "source": [
    "import numpy as np\n",
    "import pandas as pd\n",
    "from sklearn.model_selection import train_test_split, GridSearchCV\n",
    "from sklearn.feature_extraction.text import TfidfVectorizer\n",
    "from sklearn.svm import SVC\n",
    "from sklearn.metrics import accuracy_score, classification_report"
   ]
  },
  {
   "cell_type": "code",
   "execution_count": 8,
   "metadata": {},
   "outputs": [],
   "source": [
    "data = pd.read_csv('spam.csv', encoding='latin1')\n",
    "\n",
    "# Convert v1s to binary (0 for ham, 1 for spam)\n",
    "data['v1'] = data['v1'].map({'ham': 0, 'spam': 1})"
   ]
  },
  {
   "cell_type": "code",
   "execution_count": 9,
   "metadata": {},
   "outputs": [],
   "source": [
    "X_train, X_test, y_train, y_test = train_test_split(data['v2'], data['v1'], test_size=0.2, random_state=42)\n",
    "\n",
    "tfidf_vectorizer = TfidfVectorizer()\n",
    "X_train_tfidf = tfidf_vectorizer.fit_transform(X_train)\n",
    "X_test_tfidf = tfidf_vectorizer.transform(X_test)"
   ]
  },
  {
   "cell_type": "code",
   "execution_count": 10,
   "metadata": {},
   "outputs": [
    {
     "name": "stdout",
     "output_type": "stream",
     "text": [
      "Best parameters: {'C': 10, 'kernel': 'linear'}\n"
     ]
    }
   ],
   "source": [
    "param_grid = {'C': [0.1, 1, 10], 'kernel': ['linear', 'rbf']}\n",
    "svm = SVC()\n",
    "grid_search = GridSearchCV(svm, param_grid, cv=3)\n",
    "grid_search.fit(X_train_tfidf, y_train)\n",
    "\n",
    "best_params = grid_search.best_params_\n",
    "print(\"Best parameters:\", best_params)"
   ]
  },
  {
   "cell_type": "code",
   "execution_count": 11,
   "metadata": {},
   "outputs": [
    {
     "name": "stdout",
     "output_type": "stream",
     "text": [
      "Accuracy: 0.9820627802690582\n",
      "              precision    recall  f1-score   support\n",
      "\n",
      "           0       0.98      1.00      0.99       965\n",
      "           1       0.97      0.89      0.93       150\n",
      "\n",
      "    accuracy                           0.98      1115\n",
      "   macro avg       0.98      0.94      0.96      1115\n",
      "weighted avg       0.98      0.98      0.98      1115\n",
      "\n"
     ]
    }
   ],
   "source": [
    "best_model = grid_search.best_estimator_\n",
    "y_pred = best_model.predict(X_test_tfidf)\n",
    "accuracy = accuracy_score(y_test, y_pred)\n",
    "print(\"Accuracy:\", accuracy)\n",
    "print(classification_report(y_test, y_pred))"
   ]
  },
  {
   "cell_type": "code",
   "execution_count": 13,
   "metadata": {},
   "outputs": [
    {
     "name": "stdout",
     "output_type": "stream",
     "text": [
      "Message: Congratulations! You've won a free trip to Hawaii. Click here to claim your prize.\n",
      "Predicted Label: spam\n",
      "\n",
      "Message: Hi there, how are you doing?\n",
      "Predicted Label: ham\n",
      "\n",
      "Message: URGENT: Your account has been suspended. Please click the link to verify your information.\n",
      "Predicted Label: spam\n",
      "\n",
      "Message: Don't forget to pick up groceries on your way home.\n",
      "Predicted Label: ham\n",
      "\n",
      "Message: You've been selected for a special offer. Reply YES to claim.\n",
      "Predicted Label: spam\n",
      "\n",
      "Message: Just wanted to say hello. Have a great day!\n",
      "Predicted Label: ham\n",
      "\n"
     ]
    }
   ],
   "source": [
    "random_messages = [\n",
    "    \"Congratulations! You've won a free trip to Hawaii. Click here to claim your prize.\",\n",
    "    \"Hi there, how are you doing?\",\n",
    "    \"URGENT: Your account has been suspended. Please click the link to verify your information.\",\n",
    "    \"Don't forget to pick up groceries on your way home.\",\n",
    "    \"You've been selected for a special offer. Reply YES to claim.\",\n",
    "    \"Just wanted to say hello. Have a great day!\",\n",
    "]\n",
    "\n",
    "random_messages_tfidf = tfidf_vectorizer.transform(random_messages)\n",
    "predicted_labels = best_model.predict(random_messages_tfidf)\n",
    "predicted_labels_str = np.where(predicted_labels == 1, 'spam', 'ham')\n",
    "for message, label in zip(random_messages, predicted_labels_str):\n",
    "    print(f\"Message: {message}\")\n",
    "    print(f\"Predicted Label: {label}\")\n",
    "    print()\n"
   ]
  },
  {
   "cell_type": "code",
   "execution_count": null,
   "metadata": {},
   "outputs": [],
   "source": []
  }
 ],
 "metadata": {
  "kernelspec": {
   "display_name": "Python 3",
   "language": "python",
   "name": "python3"
  },
  "language_info": {
   "codemirror_mode": {
    "name": "ipython",
    "version": 3
   },
   "file_extension": ".py",
   "mimetype": "text/x-python",
   "name": "python",
   "nbconvert_exporter": "python",
   "pygments_lexer": "ipython3",
   "version": "3.12.0"
  }
 },
 "nbformat": 4,
 "nbformat_minor": 2
}
